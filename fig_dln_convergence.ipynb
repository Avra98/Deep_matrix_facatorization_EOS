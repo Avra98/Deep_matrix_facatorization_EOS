{
 "cells": [
  {
   "cell_type": "code",
   "execution_count": 11,
   "metadata": {},
   "outputs": [],
   "source": [
    "import torch\n",
    "import torch.nn as nn\n",
    "import matplotlib.pyplot as plt\n",
    "from tqdm import tqdm\n",
    "from copy import deepcopy"
   ]
  },
  {
   "cell_type": "markdown",
   "metadata": {},
   "source": [
    "## DLN Setup"
   ]
  },
  {
   "cell_type": "code",
   "execution_count": 12,
   "metadata": {},
   "outputs": [],
   "source": [
    "class DeepMatrixFactorization(nn.Module):\n",
    "    def __init__(self, d, depth, init_scale=1e-2):\n",
    "        super(DeepMatrixFactorization, self).__init__()\n",
    "\n",
    "        self.factors = nn.ParameterList([nn.Parameter(torch.randn(d, d) * 0)] + \n",
    "                                        [torch.nn.init.orthogonal_(torch.empty(d, d), gain=init_scale) for _ in range(depth-1)])\n",
    "\n",
    "    def forward(self):\n",
    "        product = self.factors[0]\n",
    "        for i in range(1, len(self.factors)):\n",
    "            product = product @ self.factors[i]\n",
    "        return product"
   ]
  },
  {
   "cell_type": "code",
   "execution_count": 13,
   "metadata": {},
   "outputs": [],
   "source": [
    "def train_gd(step_size,\n",
    "              n_outer_loops,\n",
    "              n_inner_loops,\n",
    "              tol,\n",
    "              model,\n",
    "              target,\n",
    "              callback=None):\n",
    "    \n",
    "    \"\"\"\n",
    "    Training function for deep matrix factorization.\n",
    "    \"\"\"\n",
    "    \n",
    "    criterion = torch.nn.MSELoss()\n",
    "    optimizer = torch.optim.SGD(model.parameters(), lr=step_size, weight_decay=0.0)\n",
    "\n",
    "    test_losses = []\n",
    "    train_losses = []\n",
    "    weights_list = []\n",
    "        \n",
    "    pbar = tqdm(range(n_outer_loops))\n",
    "\n",
    "    for itr in pbar:\n",
    "        for _ in range(n_inner_loops):\n",
    "            # Update\n",
    "            optimizer.zero_grad()\n",
    "                \n",
    "            train_loss = criterion(model(), target)\n",
    "\n",
    "            train_loss.backward()\n",
    "            optimizer.step()\n",
    "    \n",
    "        test_loss = criterion(model(), target)\n",
    "        test_losses.append( test_loss.detach().numpy() )\n",
    "        \n",
    "        if train_loss < tol:\n",
    "            break\n",
    "                \n",
    "        if callback:\n",
    "            callback(itr=itr, model=model, target=target)\n",
    "    \n",
    "        pbar.set_description(f\"Train loss: {train_loss:0.2e}, test loss: {test_loss:0.2e}\")\n",
    "        weights_list.append( deepcopy(model) )\n",
    "    result_dict = {\n",
    "        'train_loss': train_losses,\n",
    "        'test_loss': test_losses,\n",
    "        'weights': weights_list,\n",
    "        'final_weights': deepcopy(model)\n",
    "    }\n",
    "    \n",
    "    return result_dict"
   ]
  },
  {
   "cell_type": "markdown",
   "metadata": {},
   "source": [
    "## Generating Data"
   ]
  },
  {
   "cell_type": "code",
   "execution_count": 14,
   "metadata": {},
   "outputs": [],
   "source": [
    "def generate_data(shape, rank):\n",
    "    mat = torch.randn(shape)\n",
    "    \n",
    "    if rank is not None:\n",
    "        U, S, V = torch.svd( mat )\n",
    "        \n",
    "    return U[:, :rank] @ torch.diag(S[:rank]) @ V[:, :rank].T"
   ]
  },
  {
   "cell_type": "code",
   "execution_count": 15,
   "metadata": {},
   "outputs": [],
   "source": [
    "d = 100\n",
    "r = 3\n",
    "\n",
    "target = generate_data(shape=(d,d), rank=r)"
   ]
  },
  {
   "cell_type": "markdown",
   "metadata": {},
   "source": [
    "## Training"
   ]
  },
  {
   "cell_type": "code",
   "execution_count": 16,
   "metadata": {},
   "outputs": [
    {
     "name": "stderr",
     "output_type": "stream",
     "text": [
      "Train loss: 2.78e-07, test loss: 2.61e-07:  42%|████▏     | 422/1000 [00:37<00:52, 11.11it/s]\n"
     ]
    }
   ],
   "source": [
    "# Parameters\n",
    "depth = 3\n",
    "tol = 1e-8\n",
    "n_outer_loops = 1000\n",
    "n_inner_loops = 100\n",
    "step_size = 1\n",
    "\n",
    "init_scale = 0.01\n",
    "\n",
    "model = DeepMatrixFactorization(d=d, depth=depth, init_scale=init_scale)\n",
    "\n",
    "# Train model\n",
    "gd_result = train_gd(\n",
    "                step_size=step_size,\n",
    "                n_outer_loops=n_outer_loops,\n",
    "                n_inner_loops=n_inner_loops,\n",
    "                tol=tol,\n",
    "                model=model,\n",
    "                target=target,\n",
    "    #           callback=callback           \n",
    ")"
   ]
  },
  {
   "cell_type": "markdown",
   "metadata": {},
   "source": [
    "## Training All Orthogonal"
   ]
  },
  {
   "cell_type": "code",
   "execution_count": 17,
   "metadata": {},
   "outputs": [],
   "source": [
    "class DeepMatrixFactorizationOrth(nn.Module):\n",
    "    def __init__(self, d, depth, init_scale=1e-2):\n",
    "        super(DeepMatrixFactorizationOrth, self).__init__()\n",
    "        self.factors = nn.ParameterList([nn.Parameter(torch.nn.init.orthogonal_(torch.empty(d, d), gain=init_scale)) for _ in range(depth)])\n",
    "        \n",
    "    def forward(self):\n",
    "        product = self.factors[0]\n",
    "        for i in range(1, len(self.factors)):\n",
    "            product = product @ self.factors[i]\n",
    "        return product"
   ]
  },
  {
   "cell_type": "code",
   "execution_count": 18,
   "metadata": {},
   "outputs": [
    {
     "name": "stderr",
     "output_type": "stream",
     "text": [
      "Train loss: 1.11e-01, test loss: 1.11e-01:   0%|          | 0/1000 [00:00<?, ?it/s]"
     ]
    },
    {
     "name": "stderr",
     "output_type": "stream",
     "text": [
      "Train loss: 8.57e-07, test loss: 8.07e-07:  33%|███▎      | 334/1000 [00:31<01:02, 10.58it/s]\n"
     ]
    }
   ],
   "source": [
    "orth_model = DeepMatrixFactorizationOrth(d=d, depth=depth, init_scale=init_scale)\n",
    "\n",
    "# Train model\n",
    "orth_gd_result = train_gd(\n",
    "                step_size=step_size,\n",
    "                n_outer_loops=n_outer_loops,\n",
    "                n_inner_loops=n_inner_loops,\n",
    "                tol=tol,\n",
    "                model=orth_model,\n",
    "                target=target,\n",
    "    #           callback=callback           \n",
    ")"
   ]
  },
  {
   "cell_type": "markdown",
   "metadata": {},
   "source": [
    "## Plotting"
   ]
  },
  {
   "cell_type": "code",
   "execution_count": 19,
   "metadata": {},
   "outputs": [
    {
     "data": {
      "text/plain": [
       "<matplotlib.legend.Legend at 0x14f8ddc65c40>"
      ]
     },
     "execution_count": 19,
     "metadata": {},
     "output_type": "execute_result"
    },
    {
     "data": {
      "image/png": "[encoded data removed]",
      "text/plain": [
       "<Figure size 700x500 with 1 Axes>"
      ]
     },
     "metadata": {},
     "output_type": "display_data"
    }
   ],
   "source": [
    "fig = plt.figure(figsize=(7, 5))\n",
    "\n",
    "ax = fig.add_subplot(111)\n",
    "\n",
    "ax.semilogy(gd_result['test_loss'], c='red', linewidth=4, label=r'One Zero', alpha=0.8)\n",
    "ax.semilogy(orth_gd_result['test_loss'], c='blue', linewidth=4, label=r'All Orthogonal', alpha=0.8)\n",
    "#ax.semilogy(sigma_y, c='gray', linewidth=3, linestyle='--', label=r'$\\sigma_{\\mathbf{y}} = 0.01$', alpha=0.5)\n",
    "ax.set_xlabel('Iteration', fontsize=15)\n",
    "ax.set_ylabel('Recovery Error', fontsize=15)\n",
    "#ax.set_title(rf'd = {d}, k = {k}, T = {T}, $\\ell$ = {ell}, p = {p}', fontsize=15)\n",
    "ax.tick_params(axis='both', which='major', labelsize=15)\n",
    "ax.legend(fontsize=15)"
   ]
  }
 ],
 "metadata": {
  "kernelspec": {
   "display_name": "orthinit",
   "language": "python",
   "name": "python3"
  },
  "language_info": {
   "codemirror_mode": {
    "name": "ipython",
    "version": 3
   },
   "file_extension": ".py",
   "mimetype": "text/x-python",
   "name": "python",
   "nbconvert_exporter": "python",
   "pygments_lexer": "ipython3",
   "version": "3.12.2"
  }
 },
 "nbformat": 4,
 "nbformat_minor": 2
}
