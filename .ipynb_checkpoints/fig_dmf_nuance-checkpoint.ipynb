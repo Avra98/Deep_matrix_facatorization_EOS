{
 "cells": [
  {
   "cell_type": "code",
   "execution_count": 1,
   "metadata": {},
   "outputs": [],
   "source": [
    "import torch\n",
    "import torch.nn as nn\n",
    "import matplotlib.pyplot as plt\n",
    "from tqdm import tqdm\n",
    "from copy import deepcopy\n",
    "from utils import get_hessian_eigenvalues, get_hessian_trace"
   ]
  },
  {
   "cell_type": "markdown",
   "metadata": {},
   "source": [
    "## DLN Setup"
   ]
  },
  {
   "cell_type": "code",
   "execution_count": 2,
   "metadata": {},
   "outputs": [],
   "source": [
    "class DiagonalDeepMatrixFactorization(nn.Module):\n",
    "    def __init__(self, d, depth, init_scale=1e-2):\n",
    "        super(DiagonalDeepMatrixFactorization, self).__init__()\n",
    "\n",
    "        self.factors = nn.ParameterList([nn.Parameter(torch.zeros(d, d))] # one zero initialization\n",
    "                                        + [torch.nn.init.eye_(torch.empty(d, d))*init_scale for _ in range(depth-1)]) # others are diagonal\n",
    "\n",
    "        # self.factors = nn.ParameterList(\n",
    "        #                                 [torch.nn.init.eye_(torch.empty(d, d))*init_scale for _ in range(depth)])\n",
    "    def forward(self):\n",
    "        product = self.factors[0]\n",
    "        for i in range(1, len(self.factors)):\n",
    "            product = product @ self.factors[i]\n",
    "        return product\n",
    "\n",
    "\n",
    "class AllDiagonalDeepMatrixFactorization(nn.Module):\n",
    "    def __init__(self, d, depth, init_scale=1e-2):\n",
    "        super(AllDiagonalDeepMatrixFactorization, self).__init__()\n",
    "\n",
    "        # self.factors = nn.ParameterList([torch.nn.init.eye_(torch.empty(d, d))*init_scale for _ in range(depth)]) # all are diagonal\n",
    "\n",
    "        # self.factors = nn.ParameterList(\n",
    "        #                                 [torch.nn.init.eye_(torch.empty(d, d))*init_scale for _ in range(depth)])\n",
    "    def forward(self):\n",
    "        product = self.factors[0]\n",
    "        for i in range(1, len(self.factors)):\n",
    "            product = product @ self.factors[i]\n",
    "        return product\n",
    "\n",
    "class AllOrthogonalDeepMatrixFactorization(nn.Module):\n",
    "    \"\"\"\n",
    "    Setup for deep matrix factorization with one zero initialization and rest orthogonal.\n",
    "    \"\"\"\n",
    "\n",
    "    def __init__(self, d, depth, init_scale=1e-2):\n",
    "        super(AllOrthogonalDeepMatrixFactorization, self).__init__()\n",
    "\n",
    "        self.factors = nn.ParameterList([torch.nn.init.orthogonal_(torch.empty(d, d), gain=init_scale) for _ in range(depth)]) # others are orthogonal\n",
    "        # init = torch.nn.init.orthogonal_(torch.empty(d, d), gain=init_scale)\n",
    "\n",
    "    def forward(self):\n",
    "        product = self.factors[0]\n",
    "        for i in range(1, len(self.factors)):\n",
    "            product = product @ self.factors[i]\n",
    "        return product"
   ]
  },
  {
   "cell_type": "code",
   "execution_count": 3,
   "metadata": {},
   "outputs": [],
   "source": [
    "def train_gd(step_size,\n",
    "              n_outer_loops,\n",
    "              n_inner_loops,\n",
    "              tol,\n",
    "              model,\n",
    "              target,\n",
    "              batch_size=None,\n",
    "              callback=None):\n",
    "    \n",
    "    criterion = torch.nn.MSELoss(reduction='sum')\n",
    "    optimizer = torch.optim.SGD(model.parameters(), lr=step_size, weight_decay=0.0)\n",
    "\n",
    "    test_losses = []\n",
    "    train_losses = []\n",
    "    weights_list = []\n",
    "        \n",
    "    pbar = tqdm(range(n_outer_loops))\n",
    "\n",
    "    for itr in pbar:\n",
    "        for _ in range(n_inner_loops):\n",
    "            # Update\n",
    "            optimizer.zero_grad()\n",
    "                \n",
    "            train_loss = criterion(model(), target)\n",
    "\n",
    "            train_loss.backward()\n",
    "            optimizer.step()\n",
    "    \n",
    "        test_loss = criterion(model(), target)\n",
    "        test_losses.append( test_loss.detach().numpy() )\n",
    "        \n",
    "        if train_loss < tol:\n",
    "            break\n",
    "                \n",
    "        if callback:\n",
    "            callback(itr=itr, model=model, target=target)\n",
    "    \n",
    "        pbar.set_description(f\"Train loss: {train_loss:0.2e}, test loss: {test_loss:0.2e}\")\n",
    "        weights_list.append( deepcopy(model) )\n",
    "\n",
    "    result_dict = {\n",
    "        'train_loss': train_losses,\n",
    "        'test_loss': test_losses,\n",
    "        'weights': weights_list,\n",
    "        'final_weights': deepcopy(model)\n",
    "    }\n",
    "    \n",
    "    return result_dict\n",
    "\n"
   ]
  },
  {
   "cell_type": "markdown",
   "metadata": {},
   "source": [
    "## Generate Data"
   ]
  },
  {
   "cell_type": "code",
   "execution_count": 4,
   "metadata": {},
   "outputs": [],
   "source": [
    "def generate_data(shape, rank):\n",
    "    mat = torch.randn(shape)\n",
    "    \n",
    "    if rank is not None:\n",
    "        U, S, V = torch.svd( mat )\n",
    "        \n",
    "    return U[:, :rank] @ torch.diag(S[:rank]) @ V[:, :rank].T"
   ]
  },
  {
   "cell_type": "code",
   "execution_count": 5,
   "metadata": {},
   "outputs": [],
   "source": [
    "d = 100\n",
    "r = 3\n",
    "\n",
    "target = generate_data(shape=(d,d), rank=r)\n",
    "u, s, v = torch.svd(target)\n",
    "\n",
    "s[0] = 10\n",
    "s[1] = 8\n",
    "s[2] = 6\n",
    "\n",
    "target = u @ torch.diag(s) @ v.T"
   ]
  },
  {
   "cell_type": "markdown",
   "metadata": {},
   "source": [
    "## Training DLN"
   ]
  },
  {
   "cell_type": "code",
   "execution_count": 9,
   "metadata": {},
   "outputs": [
    {
     "name": "stderr",
     "output_type": "stream",
     "text": [
      "\n",
      "\n",
      "\n",
      "  0%|                                                                                                                                                                                     | 0/500 [00:00<?, ?it/s]\u001b[A\u001b[A\u001b[A\n",
      "\n",
      "\n",
      "Train loss: 2.00e+02, test loss: 1.92e+02:   0%|                                                                                                                                          | 0/500 [00:29<?, ?it/s]\u001b[A\u001b[A\u001b[A\n",
      "\n",
      "\n",
      "Train loss: 2.00e+02, test loss: 1.92e+02:   0%|▎                                                                                                                               | 1/500 [00:29<4:05:23, 29.51s/it]\u001b[A\u001b[A\u001b[A\n",
      "\n",
      "\n"
     ]
    },
    {
     "name": "stdout",
     "output_type": "stream",
     "text": [
      "Sharpness: tensor(0.0030)\n",
      "Sharpness: tensor(0.0030)\n"
     ]
    },
    {
     "name": "stderr",
     "output_type": "stream",
     "text": [
      "Train loss: 1.92e+02, test loss: 1.84e+02:   0%|▎                                                                                                                               | 1/500 [00:29<4:05:23, 29.51s/it]\u001b[A\u001b[A\u001b[A\n",
      "\n",
      "\n",
      "Train loss: 1.92e+02, test loss: 1.84e+02:   0%|▌                                                                                                                               | 2/500 [00:29<2:51:55, 20.71s/it]\u001b[A\u001b[A\u001b[A\n",
      "\n",
      "\n",
      "Train loss: 1.84e+02, test loss: 1.72e+02:   0%|▌                                                                                                                               | 2/500 [00:29<2:51:55, 20.71s/it]\u001b[A\u001b[A\u001b[A\n",
      "\n",
      "\n",
      "Train loss: 1.84e+02, test loss: 1.72e+02:   1%|▊                                                                                                                               | 3/500 [00:29<2:00:39, 14.57s/it]\u001b[A\u001b[A\u001b[A"
     ]
    },
    {
     "name": "stdout",
     "output_type": "stream",
     "text": [
      "Sharpness: tensor(0.0030)\n"
     ]
    },
    {
     "name": "stderr",
     "output_type": "stream",
     "text": [
      "\n",
      "\n",
      "\n",
      "Train loss: 1.72e+02, test loss: 1.56e+02:   1%|▊                                                                                                                               | 3/500 [00:30<2:00:39, 14.57s/it]\u001b[A\u001b[A\u001b[A\n",
      "\n",
      "\n",
      "Train loss: 1.72e+02, test loss: 1.56e+02:   1%|█                                                                                                                               | 4/500 [00:30<1:25:04, 10.29s/it]\u001b[A\u001b[A\u001b[A"
     ]
    },
    {
     "name": "stdout",
     "output_type": "stream",
     "text": [
      "Sharpness: tensor(0.0030)\n"
     ]
    },
    {
     "name": "stderr",
     "output_type": "stream",
     "text": [
      "\n",
      "\n",
      "\n",
      "Train loss: 1.56e+02, test loss: 1.32e+02:   1%|█                                                                                                                               | 4/500 [00:30<1:25:04, 10.29s/it]\u001b[A\u001b[A\u001b[A\n",
      "\n",
      "\n",
      "Train loss: 1.56e+02, test loss: 1.32e+02:   1%|█▎                                                                                                                              | 5/500 [00:30<1:00:00,  7.27s/it]\u001b[A\u001b[A\u001b[A"
     ]
    },
    {
     "name": "stdout",
     "output_type": "stream",
     "text": [
      "Sharpness: tensor(0.0030)\n"
     ]
    },
    {
     "name": "stderr",
     "output_type": "stream",
     "text": [
      "\n",
      "\n",
      "\n",
      "Train loss: 1.32e+02, test loss: 9.62e+01:   1%|█▎                                                                                                                              | 5/500 [00:48<1:00:00,  7.27s/it]\u001b[A\u001b[A\u001b[A\n",
      "\n",
      "\n",
      "Train loss: 1.32e+02, test loss: 9.62e+01:   1%|█▌                                                                                                                              | 6/500 [00:48<1:26:40, 10.53s/it]\u001b[A\u001b[A\u001b[A"
     ]
    },
    {
     "name": "stdout",
     "output_type": "stream",
     "text": [
      "Sharpness: tensor(0.0060)\n"
     ]
    },
    {
     "name": "stderr",
     "output_type": "stream",
     "text": [
      "\n",
      "\n",
      "\n",
      "Train loss: 9.62e+01, test loss: 5.45e+01:   1%|█▌                                                                                                                              | 6/500 [00:48<1:26:40, 10.53s/it]\u001b[A\u001b[A\u001b[A\n",
      "\n",
      "\n",
      "Train loss: 9.62e+01, test loss: 5.45e+01:   1%|█▊                                                                                                                              | 7/500 [00:48<1:01:09,  7.44s/it]\u001b[A\u001b[A\u001b[A"
     ]
    },
    {
     "name": "stdout",
     "output_type": "stream",
     "text": [
      "Sharpness: tensor(0.0060)\n"
     ]
    },
    {
     "name": "stderr",
     "output_type": "stream",
     "text": [
      "\n",
      "\n",
      "\n",
      "Train loss: 5.45e+01, test loss: 2.64e+01:   1%|█▊                                                                                                                              | 7/500 [00:49<1:01:09,  7.44s/it]\u001b[A\u001b[A\u001b[A\n",
      "\n",
      "\n",
      "Train loss: 5.45e+01, test loss: 2.64e+01:   2%|██                                                                                                                                | 8/500 [00:49<43:23,  5.29s/it]\u001b[A\u001b[A\u001b[A"
     ]
    },
    {
     "name": "stdout",
     "output_type": "stream",
     "text": [
      "Sharpness: tensor(0.0060)\n"
     ]
    },
    {
     "name": "stderr",
     "output_type": "stream",
     "text": [
      "\n",
      "\n",
      "\n",
      "Train loss: 2.64e+01, test loss: 1.28e+01:   2%|██                                                                                                                                | 8/500 [00:49<43:23,  5.29s/it]\u001b[A\u001b[A\u001b[A\n",
      "\n",
      "\n",
      "Train loss: 2.64e+01, test loss: 1.28e+01:   2%|██▎                                                                                                                               | 9/500 [00:49<30:56,  3.78s/it]\u001b[A\u001b[A\u001b[A\n",
      "\n",
      "\n",
      "Train loss: 1.28e+01, test loss: 5.88e+00:   2%|██▎                                                                                                                               | 9/500 [00:49<30:56,  3.78s/it]\u001b[A\u001b[A\u001b[A\n",
      "\n",
      "\n",
      "Train loss: 1.28e+01, test loss: 5.88e+00:   2%|██▌                                                                                                                              | 10/500 [00:49<21:56,  2.69s/it]\u001b[A\u001b[A\u001b[A"
     ]
    },
    {
     "name": "stdout",
     "output_type": "stream",
     "text": [
      "Sharpness: tensor(0.0060)\n",
      "Sharpness: tensor(0.0060)\n"
     ]
    },
    {
     "name": "stderr",
     "output_type": "stream",
     "text": [
      "\n",
      "\n",
      "\n",
      "Train loss: 5.88e+00, test loss: 2.35e+00:   2%|██▌                                                                                                                              | 10/500 [01:01<21:56,  2.69s/it]\u001b[A\u001b[A\u001b[A\n",
      "\n",
      "\n",
      "Train loss: 5.88e+00, test loss: 2.35e+00:   2%|██▊                                                                                                                              | 11/500 [01:01<44:03,  5.40s/it]\u001b[A\u001b[A\u001b[A\n",
      "\n",
      "\n",
      "Train loss: 2.35e+00, test loss: 6.59e-01:   2%|██▊                                                                                                                              | 11/500 [01:01<44:03,  5.40s/it]\u001b[A\u001b[A\u001b[A\n",
      "\n",
      "\n",
      "Train loss: 6.59e-01, test loss: 1.28e-01:   2%|██▊                                                                                                                              | 11/500 [01:01<44:03,  5.40s/it]\u001b[A\u001b[A\u001b[A\n",
      "\n",
      "\n",
      "Train loss: 6.59e-01, test loss: 1.28e-01:   3%|███▎                                                                                                                             | 13/500 [01:01<30:55,  3.81s/it]\u001b[A\u001b[A\u001b[A"
     ]
    },
    {
     "name": "stdout",
     "output_type": "stream",
     "text": [
      "Sharpness: tensor(0.0130)\n",
      "Sharpness: tensor(0.0130)\n",
      "Sharpness: tensor(0.0130)\n"
     ]
    },
    {
     "name": "stderr",
     "output_type": "stream",
     "text": [
      "\n",
      "\n",
      "\n",
      "Train loss: 1.28e-01, test loss: 1.88e-02:   3%|███▎                                                                                                                             | 13/500 [01:01<30:55,  3.81s/it]\u001b[A\u001b[A\u001b[A\n",
      "\n",
      "\n",
      "Train loss: 1.88e-02, test loss: 2.39e-03:   3%|███▎                                                                                                                             | 13/500 [01:01<30:55,  3.81s/it]\u001b[A\u001b[A\u001b[A\n",
      "\n",
      "\n",
      "Train loss: 1.88e-02, test loss: 2.39e-03:   3%|███▊                                                                                                                             | 15/500 [01:01<21:48,  2.70s/it]\u001b[A\u001b[A\u001b[A"
     ]
    },
    {
     "name": "stdout",
     "output_type": "stream",
     "text": [
      "Sharpness: tensor(0.0130)\n",
      "Sharpness: tensor(0.0130)\n"
     ]
    },
    {
     "name": "stderr",
     "output_type": "stream",
     "text": [
      "\n",
      "\n",
      "\n",
      "Train loss: 2.39e-03, test loss: 2.87e-04:   3%|███▊                                                                                                                             | 15/500 [01:10<21:48,  2.70s/it]\u001b[A\u001b[A\u001b[A\n",
      "\n",
      "\n",
      "Train loss: 2.39e-03, test loss: 2.87e-04:   3%|████▏                                                                                                                            | 16/500 [01:10<37:27,  4.64s/it]\u001b[A\u001b[A\u001b[A"
     ]
    },
    {
     "name": "stdout",
     "output_type": "stream",
     "text": [
      "Sharpness: tensor(0.0130)\n"
     ]
    },
    {
     "name": "stderr",
     "output_type": "stream",
     "text": [
      "\n",
      "\n",
      "\n",
      "Train loss: 2.87e-04, test loss: 3.36e-05:   3%|████▏                                                                                                                            | 16/500 [01:11<37:27,  4.64s/it]\u001b[A\u001b[A\u001b[A\n",
      "\n",
      "\n",
      "Train loss: 2.87e-04, test loss: 3.36e-05:   3%|████▍                                                                                                                            | 17/500 [01:11<26:58,  3.35s/it]\u001b[A\u001b[A\u001b[A"
     ]
    },
    {
     "name": "stdout",
     "output_type": "stream",
     "text": [
      "Sharpness: tensor(0.0130)\n"
     ]
    },
    {
     "name": "stderr",
     "output_type": "stream",
     "text": [
      "\n",
      "\n",
      "\n",
      "Train loss: 3.36e-05, test loss: 3.91e-06:   3%|████▍                                                                                                                            | 17/500 [01:11<26:58,  3.35s/it]\u001b[A\u001b[A\u001b[A\n",
      "\n",
      "\n",
      "Train loss: 3.36e-05, test loss: 3.91e-06:   4%|████▋                                                                                                                            | 18/500 [01:11<19:35,  2.44s/it]\u001b[A\u001b[A\u001b[A"
     ]
    },
    {
     "name": "stdout",
     "output_type": "stream",
     "text": [
      "Sharpness: tensor(0.0130)\n"
     ]
    },
    {
     "name": "stderr",
     "output_type": "stream",
     "text": [
      "\n",
      "\n",
      "\n",
      "Train loss: 3.91e-06, test loss: 4.53e-07:   4%|████▋                                                                                                                            | 18/500 [01:11<19:35,  2.44s/it]\u001b[A\u001b[A\u001b[A\n",
      "\n",
      "\n",
      "Train loss: 3.91e-06, test loss: 4.53e-07:   4%|████▉                                                                                                                            | 19/500 [01:11<14:40,  1.83s/it]\u001b[A\u001b[A\u001b[A"
     ]
    },
    {
     "name": "stdout",
     "output_type": "stream",
     "text": [
      "Sharpness: tensor(0.0130)\n"
     ]
    },
    {
     "name": "stderr",
     "output_type": "stream",
     "text": [
      "\n",
      "\n",
      "\n",
      "Train loss: 4.53e-07, test loss: 5.26e-08:   4%|████▉                                                                                                                            | 19/500 [01:12<14:40,  1.83s/it]\u001b[A\u001b[A\u001b[A\n",
      "\n",
      "\n",
      "Train loss: 4.53e-07, test loss: 5.26e-08:   4%|█████▏                                                                                                                           | 20/500 [01:12<10:59,  1.37s/it]\u001b[A\u001b[A\u001b[A"
     ]
    },
    {
     "name": "stdout",
     "output_type": "stream",
     "text": [
      "Sharpness: tensor(0.0130)\n"
     ]
    },
    {
     "name": "stderr",
     "output_type": "stream",
     "text": [
      "\n",
      "\n",
      "\n",
      "Train loss: 5.26e-08, test loss: 6.17e-09:   4%|█████▏                                                                                                                           | 20/500 [01:20<10:59,  1.37s/it]\u001b[A\u001b[A\u001b[A\n",
      "\n",
      "\n",
      "Train loss: 5.26e-08, test loss: 6.17e-09:   4%|█████▍                                                                                                                           | 21/500 [01:20<26:47,  3.36s/it]\u001b[A\u001b[A\u001b[A"
     ]
    },
    {
     "name": "stdout",
     "output_type": "stream",
     "text": [
      "Sharpness: tensor(0.0130)\n"
     ]
    },
    {
     "name": "stderr",
     "output_type": "stream",
     "text": [
      "\n",
      "\n",
      "\n",
      "Train loss: 6.17e-09, test loss: 8.12e-10:   4%|█████▍                                                                                                                           | 21/500 [01:20<26:47,  3.36s/it]\u001b[A\u001b[A\u001b[A\n",
      "\n",
      "\n",
      "Train loss: 6.17e-09, test loss: 8.12e-10:   4%|█████▋                                                                                                                           | 22/500 [01:20<19:18,  2.42s/it]\u001b[A\u001b[A\u001b[A\n",
      "\n",
      "\n",
      "Train loss: 8.12e-10, test loss: 1.92e-10:   4%|█████▋                                                                                                                           | 22/500 [01:20<19:18,  2.42s/it]\u001b[A\u001b[A\u001b[A\n",
      "\n",
      "\n",
      "Train loss: 8.12e-10, test loss: 1.92e-10:   5%|█████▉                                                                                                                           | 23/500 [01:20<13:47,  1.74s/it]\u001b[A\u001b[A\u001b[A"
     ]
    },
    {
     "name": "stdout",
     "output_type": "stream",
     "text": [
      "Sharpness: tensor(0.0130)\n",
      "Sharpness: tensor(0.0130)\n"
     ]
    },
    {
     "name": "stderr",
     "output_type": "stream",
     "text": [
      "\n",
      "\n",
      "\n",
      "Train loss: 1.92e-10, test loss: 1.16e-10:   5%|█████▉                                                                                                                           | 23/500 [01:20<13:47,  1.74s/it]\u001b[A\u001b[A\u001b[A\n",
      "\n",
      "\n",
      "Train loss: 1.92e-10, test loss: 1.16e-10:   5%|██████▏                                                                                                                          | 24/500 [01:20<10:04,  1.27s/it]\u001b[A\u001b[A\u001b[A\n",
      "\n",
      "\n"
     ]
    },
    {
     "name": "stdout",
     "output_type": "stream",
     "text": [
      "Sharpness: tensor(0.0130)\n",
      "Sharpness: tensor(0.0130)\n"
     ]
    },
    {
     "name": "stderr",
     "output_type": "stream",
     "text": [
      "Train loss: 1.16e-10, test loss: 1.03e-10:   5%|██████▏                                                                                                                          | 24/500 [01:20<10:04,  1.27s/it]\u001b[A\u001b[A\u001b[A\n",
      "\n",
      "\n",
      "Train loss: 1.16e-10, test loss: 1.03e-10:   5%|██████▍                                                                                                                          | 25/500 [01:20<07:30,  1.05it/s]\u001b[A\u001b[A\u001b[A\n",
      "\n",
      "\n",
      "Train loss: 1.03e-10, test loss: 9.79e-11:   5%|██████▍                                                                                                                          | 25/500 [01:27<07:30,  1.05it/s]\u001b[A\u001b[A\u001b[A\n",
      "\n",
      "\n",
      "Train loss: 1.03e-10, test loss: 9.79e-11:   5%|██████▋                                                                                                                          | 26/500 [01:27<20:42,  2.62s/it]\u001b[A\u001b[A\u001b[A"
     ]
    },
    {
     "name": "stdout",
     "output_type": "stream",
     "text": [
      "Sharpness: tensor(0.0130)\n"
     ]
    },
    {
     "name": "stderr",
     "output_type": "stream",
     "text": [
      "\n",
      "\n",
      "\n",
      "Train loss: 9.79e-11, test loss: 9.41e-11:   5%|██████▋                                                                                                                          | 26/500 [01:27<20:42,  2.62s/it]\u001b[A\u001b[A\u001b[A\n",
      "\n",
      "\n",
      "Train loss: 9.79e-11, test loss: 9.41e-11:   5%|██████▉                                                                                                                          | 27/500 [01:27<15:01,  1.91s/it]\u001b[A\u001b[A\u001b[A\n",
      "\n",
      "\n",
      "Train loss: 9.41e-11, test loss: 9.03e-11:   5%|██████▉                                                                                                                          | 27/500 [01:27<15:01,  1.91s/it]\u001b[A\u001b[A\u001b[A\n",
      "\n",
      "\n",
      "Train loss: 9.41e-11, test loss: 9.03e-11:   6%|███████▏                                                                                                                         | 28/500 [01:27<10:55,  1.39s/it]\u001b[A\u001b[A\u001b[A"
     ]
    },
    {
     "name": "stdout",
     "output_type": "stream",
     "text": [
      "Sharpness: tensor(0.0130)\n",
      "Sharpness: tensor(0.0130)\n"
     ]
    },
    {
     "name": "stderr",
     "output_type": "stream",
     "text": [
      "\n",
      "\n",
      "\n",
      "Train loss: 9.03e-11, test loss: 8.68e-11:   6%|███████▏                                                                                                                         | 28/500 [01:27<10:55,  1.39s/it]\u001b[A\u001b[A\u001b[A\n",
      "\n",
      "\n",
      "Train loss: 9.03e-11, test loss: 8.68e-11:   6%|███████▍                                                                                                                         | 29/500 [01:27<07:55,  1.01s/it]\u001b[A\u001b[A\u001b[A\n",
      "\n",
      "\n",
      "Train loss: 8.68e-11, test loss: 8.35e-11:   6%|███████▍                                                                                                                         | 29/500 [01:28<07:55,  1.01s/it]\u001b[A\u001b[A\u001b[A\n",
      "\n",
      "\n",
      "Train loss: 8.68e-11, test loss: 8.35e-11:   6%|███████▋                                                                                                                         | 30/500 [01:28<05:54,  1.33it/s]\u001b[A\u001b[A\u001b[A"
     ]
    },
    {
     "name": "stdout",
     "output_type": "stream",
     "text": [
      "Sharpness: tensor(0.0130)\n",
      "Sharpness: tensor(0.0130)\n"
     ]
    },
    {
     "name": "stderr",
     "output_type": "stream",
     "text": [
      "\n",
      "\n",
      "\n",
      "Train loss: 8.35e-11, test loss: 8.04e-11:   6%|███████▋                                                                                                                         | 30/500 [01:36<05:54,  1.33it/s]\u001b[A\u001b[A\u001b[A\n",
      "\n",
      "\n",
      "Train loss: 8.35e-11, test loss: 8.04e-11:   6%|███████▉                                                                                                                         | 31/500 [01:36<24:36,  3.15s/it]\u001b[A\u001b[A\u001b[A"
     ]
    },
    {
     "name": "stdout",
     "output_type": "stream",
     "text": [
      "Sharpness: tensor(0.0130)\n"
     ]
    },
    {
     "name": "stderr",
     "output_type": "stream",
     "text": [
      "\n",
      "\n",
      "\n",
      "Train loss: 8.04e-11, test loss: 7.73e-11:   6%|███████▉                                                                                                                         | 31/500 [01:37<24:36,  3.15s/it]\u001b[A\u001b[A\u001b[A\n",
      "\n",
      "\n",
      "Train loss: 8.04e-11, test loss: 7.73e-11:   6%|████████▎                                                                                                                        | 32/500 [01:37<17:51,  2.29s/it]\u001b[A\u001b[A\u001b[A"
     ]
    },
    {
     "name": "stdout",
     "output_type": "stream",
     "text": [
      "Sharpness: tensor(0.0130)\n"
     ]
    },
    {
     "name": "stderr",
     "output_type": "stream",
     "text": [
      "\n",
      "\n",
      "\n",
      "Train loss: 7.73e-11, test loss: 7.45e-11:   6%|████████▎                                                                                                                        | 32/500 [01:37<17:51,  2.29s/it]\u001b[A\u001b[A\u001b[A\n",
      "\n",
      "\n",
      "Train loss: 7.73e-11, test loss: 7.45e-11:   7%|████████▌                                                                                                                        | 33/500 [01:37<13:13,  1.70s/it]\u001b[A\u001b[A\u001b[A"
     ]
    },
    {
     "name": "stdout",
     "output_type": "stream",
     "text": [
      "Sharpness: tensor(0.0130)\n"
     ]
    },
    {
     "name": "stderr",
     "output_type": "stream",
     "text": [
      "\n",
      "\n",
      "\n",
      "Train loss: 7.45e-11, test loss: 7.22e-11:   7%|████████▌                                                                                                                        | 33/500 [01:37<13:13,  1.70s/it]\u001b[A\u001b[A\u001b[A\n",
      "\n",
      "\n",
      "Train loss: 7.45e-11, test loss: 7.22e-11:   7%|████████▊                                                                                                                        | 34/500 [01:37<10:02,  1.29s/it]\u001b[A\u001b[A\u001b[A"
     ]
    },
    {
     "name": "stdout",
     "output_type": "stream",
     "text": [
      "Sharpness: tensor(0.0130)\n"
     ]
    },
    {
     "name": "stderr",
     "output_type": "stream",
     "text": [
      "\n",
      "\n",
      "\n",
      "Train loss: 7.22e-11, test loss: 6.95e-11:   7%|████████▊                                                                                                                        | 34/500 [01:38<10:02,  1.29s/it]\u001b[A\u001b[A\u001b[A\n",
      "\n",
      "\n",
      "Train loss: 7.22e-11, test loss: 6.95e-11:   7%|█████████                                                                                                                        | 35/500 [01:38<07:47,  1.00s/it]\u001b[A\u001b[A\u001b[A"
     ]
    },
    {
     "name": "stdout",
     "output_type": "stream",
     "text": [
      "Sharpness: tensor(0.0130)\n"
     ]
    },
    {
     "name": "stderr",
     "output_type": "stream",
     "text": [
      "\n",
      "\n",
      "\n",
      "Train loss: 6.95e-11, test loss: 6.71e-11:   7%|█████████                                                                                                                        | 35/500 [01:48<07:47,  1.00s/it]\u001b[A\u001b[A\u001b[A\n",
      "\n",
      "\n",
      "Train loss: 6.95e-11, test loss: 6.71e-11:   7%|█████████▎                                                                                                                       | 36/500 [01:48<29:56,  3.87s/it]\u001b[A\u001b[A\u001b[A"
     ]
    },
    {
     "name": "stdout",
     "output_type": "stream",
     "text": [
      "Sharpness: tensor(0.0130)\n"
     ]
    },
    {
     "name": "stderr",
     "output_type": "stream",
     "text": [
      "\n",
      "\n",
      "\n",
      "Train loss: 6.71e-11, test loss: 6.47e-11:   7%|█████████▎                                                                                                                       | 36/500 [01:49<29:56,  3.87s/it]\u001b[A\u001b[A\u001b[A\n",
      "\n",
      "\n",
      "Train loss: 6.71e-11, test loss: 6.47e-11:   7%|█████████▌                                                                                                                       | 37/500 [01:49<21:42,  2.81s/it]\u001b[A\u001b[A\u001b[A"
     ]
    },
    {
     "name": "stdout",
     "output_type": "stream",
     "text": [
      "Sharpness: tensor(0.0130)\n"
     ]
    },
    {
     "name": "stderr",
     "output_type": "stream",
     "text": [
      "\n",
      "\n",
      "\n",
      "Train loss: 6.47e-11, test loss: 6.26e-11:   7%|█████████▌                                                                                                                       | 37/500 [01:49<21:42,  2.81s/it]\u001b[A\u001b[A\u001b[A\n",
      "\n",
      "\n",
      "Train loss: 6.47e-11, test loss: 6.26e-11:   8%|█████████▊                                                                                                                       | 38/500 [01:49<15:53,  2.06s/it]\u001b[A\u001b[A\u001b[A"
     ]
    },
    {
     "name": "stdout",
     "output_type": "stream",
     "text": [
      "Sharpness: tensor(0.0130)\n"
     ]
    },
    {
     "name": "stderr",
     "output_type": "stream",
     "text": [
      "\n",
      "\n",
      "\n",
      "Train loss: 6.26e-11, test loss: 6.05e-11:   8%|█████████▊                                                                                                                       | 38/500 [01:49<15:53,  2.06s/it]\u001b[A\u001b[A\u001b[A\n",
      "\n",
      "\n",
      "Train loss: 6.26e-11, test loss: 6.05e-11:   8%|██████████                                                                                                                       | 39/500 [01:49<11:50,  1.54s/it]\u001b[A\u001b[A\u001b[A"
     ]
    },
    {
     "name": "stdout",
     "output_type": "stream",
     "text": [
      "Sharpness: tensor(0.0130)\n"
     ]
    },
    {
     "name": "stderr",
     "output_type": "stream",
     "text": [
      "\n",
      "\n",
      "\n",
      "Train loss: 6.05e-11, test loss: 5.83e-11:   8%|██████████                                                                                                                       | 39/500 [01:50<11:50,  1.54s/it]\u001b[A\u001b[A\u001b[A\n",
      "\n",
      "\n",
      "Train loss: 6.05e-11, test loss: 5.83e-11:   8%|██████████▎                                                                                                                      | 40/500 [01:50<09:00,  1.18s/it]\u001b[A\u001b[A\u001b[A"
     ]
    },
    {
     "name": "stdout",
     "output_type": "stream",
     "text": [
      "Sharpness: tensor(0.0130)\n"
     ]
    },
    {
     "name": "stderr",
     "output_type": "stream",
     "text": [
      "\n",
      "\n",
      "\n",
      "Train loss: 5.83e-11, test loss: 5.65e-11:   8%|██████████▎                                                                                                                      | 40/500 [02:00<09:00,  1.18s/it]\u001b[A\u001b[A\u001b[A\n",
      "\n",
      "\n",
      "Train loss: 5.83e-11, test loss: 5.65e-11:   8%|██████████▌                                                                                                                      | 41/500 [02:00<29:45,  3.89s/it]\u001b[A\u001b[A\u001b[A"
     ]
    },
    {
     "name": "stdout",
     "output_type": "stream",
     "text": [
      "Sharpness: tensor(0.0130)\n"
     ]
    },
    {
     "name": "stderr",
     "output_type": "stream",
     "text": [
      "\n",
      "\n",
      "\n",
      "Train loss: 5.65e-11, test loss: 5.48e-11:   8%|██████████▌                                                                                                                      | 41/500 [02:00<29:45,  3.89s/it]\u001b[A\u001b[A\u001b[A\n",
      "\n",
      "\n",
      "Train loss: 5.65e-11, test loss: 5.48e-11:   8%|██████████▊                                                                                                                      | 42/500 [02:00<21:19,  2.79s/it]\u001b[A\u001b[A\u001b[A\n",
      "\n",
      "\n",
      "Train loss: 5.48e-11, test loss: 5.30e-11:   8%|██████████▊                                                                                                                      | 42/500 [02:00<21:19,  2.79s/it]\u001b[A\u001b[A\u001b[A\n",
      "\n",
      "\n",
      "Train loss: 5.48e-11, test loss: 5.30e-11:   9%|███████████                                                                                                                      | 43/500 [02:00<15:11,  1.99s/it]\u001b[A\u001b[A\u001b[A"
     ]
    },
    {
     "name": "stdout",
     "output_type": "stream",
     "text": [
      "Sharpness: tensor(0.0130)\n",
      "Sharpness: tensor(0.0130)\n"
     ]
    },
    {
     "name": "stderr",
     "output_type": "stream",
     "text": [
      "\n",
      "\n",
      "\n",
      "Train loss: 5.30e-11, test loss: 5.14e-11:   9%|███████████                                                                                                                      | 43/500 [02:00<15:11,  1.99s/it]\u001b[A\u001b[A\u001b[A\n",
      "\n",
      "\n",
      "Train loss: 5.30e-11, test loss: 5.14e-11:   9%|███████████▎                                                                                                                     | 44/500 [02:00<11:08,  1.47s/it]\u001b[A\u001b[A\u001b[A"
     ]
    },
    {
     "name": "stdout",
     "output_type": "stream",
     "text": [
      "Sharpness: tensor(0.0130)\n"
     ]
    },
    {
     "name": "stderr",
     "output_type": "stream",
     "text": [
      "\n",
      "\n",
      "\n",
      "Train loss: 5.14e-11, test loss: 4.97e-11:   9%|███████████▎                                                                                                                     | 44/500 [02:01<11:08,  1.47s/it]\u001b[A\u001b[A\u001b[A\n",
      "\n",
      "\n",
      "Train loss: 5.14e-11, test loss: 4.97e-11:   9%|███████████▌                                                                                                                     | 45/500 [02:01<08:18,  1.10s/it]\u001b[A\u001b[A\u001b[A"
     ]
    },
    {
     "name": "stdout",
     "output_type": "stream",
     "text": [
      "Sharpness: tensor(0.0130)\n"
     ]
    },
    {
     "name": "stderr",
     "output_type": "stream",
     "text": [
      "\n",
      "\n",
      "\n",
      "Train loss: 4.97e-11, test loss: 4.80e-11:   9%|███████████▌                                                                                                                     | 45/500 [02:10<08:18,  1.10s/it]\u001b[A\u001b[A\u001b[A\n",
      "\n",
      "\n",
      "Train loss: 4.97e-11, test loss: 4.80e-11:   9%|███████████▊                                                                                                                     | 46/500 [02:10<28:04,  3.71s/it]\u001b[A\u001b[A\u001b[A"
     ]
    },
    {
     "name": "stdout",
     "output_type": "stream",
     "text": [
      "Sharpness: tensor(0.0130)\n"
     ]
    },
    {
     "name": "stderr",
     "output_type": "stream",
     "text": [
      "\n",
      "\n",
      "\n",
      "Train loss: 4.80e-11, test loss: 4.65e-11:   9%|███████████▊                                                                                                                     | 46/500 [02:11<28:04,  3.71s/it]\u001b[A\u001b[A\u001b[A\n",
      "\n",
      "\n",
      "Train loss: 4.80e-11, test loss: 4.65e-11:   9%|████████████▏                                                                                                                    | 47/500 [02:11<20:14,  2.68s/it]\u001b[A\u001b[A\u001b[A"
     ]
    },
    {
     "name": "stdout",
     "output_type": "stream",
     "text": [
      "Sharpness: tensor(0.0130)\n"
     ]
    },
    {
     "name": "stderr",
     "output_type": "stream",
     "text": [
      "\n",
      "\n",
      "\n",
      "Train loss: 4.65e-11, test loss: 4.52e-11:   9%|████████████▏                                                                                                                    | 47/500 [02:11<20:14,  2.68s/it]\u001b[A\u001b[A\u001b[A\n",
      "\n",
      "\n",
      "Train loss: 4.65e-11, test loss: 4.52e-11:  10%|████████████▍                                                                                                                    | 48/500 [02:11<14:38,  1.94s/it]\u001b[A\u001b[A\u001b[A"
     ]
    },
    {
     "name": "stdout",
     "output_type": "stream",
     "text": [
      "Sharpness: tensor(0.0130)\n"
     ]
    },
    {
     "name": "stderr",
     "output_type": "stream",
     "text": [
      "\n",
      "\n",
      "\n",
      "Train loss: 4.52e-11, test loss: 4.39e-11:  10%|████████████▍                                                                                                                    | 48/500 [02:11<14:38,  1.94s/it]\u001b[A\u001b[A\u001b[A\n",
      "\n",
      "\n",
      "Train loss: 4.52e-11, test loss: 4.39e-11:  10%|████████████▋                                                                                                                    | 49/500 [02:11<10:49,  1.44s/it]\u001b[A\u001b[A\u001b[A"
     ]
    },
    {
     "name": "stdout",
     "output_type": "stream",
     "text": [
      "Sharpness: tensor(0.0130)\n"
     ]
    },
    {
     "name": "stderr",
     "output_type": "stream",
     "text": [
      "\n",
      "\n",
      "\n",
      "Train loss: 4.39e-11, test loss: 4.27e-11:  10%|████████████▋                                                                                                                    | 49/500 [02:12<10:49,  1.44s/it]\u001b[A\u001b[A\u001b[A\n",
      "\n",
      "\n",
      "Train loss: 4.39e-11, test loss: 4.27e-11:  10%|████████████▉                                                                                                                    | 50/500 [02:12<08:22,  1.12s/it]\u001b[A\u001b[A\u001b[A"
     ]
    },
    {
     "name": "stdout",
     "output_type": "stream",
     "text": [
      "Sharpness: tensor(0.0130)\n"
     ]
    },
    {
     "name": "stderr",
     "output_type": "stream",
     "text": [
      "\n",
      "\n",
      "\n",
      "Train loss: 4.27e-11, test loss: 4.17e-11:  10%|████████████▉                                                                                                                    | 50/500 [02:23<08:22,  1.12s/it]\u001b[A\u001b[A\u001b[A\n",
      "\n",
      "\n",
      "Train loss: 4.27e-11, test loss: 4.17e-11:  10%|█████████████▏                                                                                                                   | 51/500 [02:23<32:25,  4.33s/it]\u001b[A\u001b[A\u001b[A"
     ]
    },
    {
     "name": "stdout",
     "output_type": "stream",
     "text": [
      "Sharpness: tensor(0.0130)\n"
     ]
    },
    {
     "name": "stderr",
     "output_type": "stream",
     "text": [
      "\n",
      "\n",
      "\n",
      "Train loss: 4.17e-11, test loss: 4.03e-11:  10%|█████████████▏                                                                                                                   | 51/500 [02:24<32:25,  4.33s/it]\u001b[A\u001b[A\u001b[A\n",
      "\n",
      "\n",
      "Train loss: 4.17e-11, test loss: 4.03e-11:  10%|█████████████▍                                                                                                                   | 52/500 [02:24<23:19,  3.12s/it]\u001b[A\u001b[A\u001b[A\n",
      "\n",
      "\n",
      "Train loss: 4.03e-11, test loss: 3.91e-11:  10%|█████████████▍                                                                                                                   | 52/500 [02:24<23:19,  3.12s/it]\u001b[A\u001b[A\u001b[A\n",
      "\n",
      "\n",
      "Train loss: 4.03e-11, test loss: 3.91e-11:  11%|█████████████▋                                                                                                                   | 53/500 [02:24<16:38,  2.23s/it]\u001b[A\u001b[A\u001b[A"
     ]
    },
    {
     "name": "stdout",
     "output_type": "stream",
     "text": [
      "Sharpness: tensor(0.0130)\n",
      "Sharpness: tensor(0.0130)\n"
     ]
    },
    {
     "name": "stderr",
     "output_type": "stream",
     "text": [
      "\n",
      "\n",
      "\n",
      "Train loss: 3.91e-11, test loss: 3.81e-11:  11%|█████████████▋                                                                                                                   | 53/500 [02:24<16:38,  2.23s/it]\u001b[A\u001b[A\u001b[A\n",
      "\n",
      "\n",
      "Train loss: 3.91e-11, test loss: 3.81e-11:  11%|█████████████▉                                                                                                                   | 54/500 [02:24<12:31,  1.69s/it]\u001b[A\u001b[A\u001b[A"
     ]
    },
    {
     "name": "stdout",
     "output_type": "stream",
     "text": [
      "Sharpness: tensor(0.0130)\n"
     ]
    },
    {
     "name": "stderr",
     "output_type": "stream",
     "text": [
      "\n",
      "\n",
      "\n",
      "Train loss: 3.81e-11, test loss: 3.72e-11:  11%|█████████████▉                                                                                                                   | 54/500 [02:25<12:31,  1.69s/it]\u001b[A\u001b[A\u001b[A\n",
      "\n",
      "\n",
      "Train loss: 3.81e-11, test loss: 3.72e-11:  11%|██████████████▏                                                                                                                  | 55/500 [02:25<09:36,  1.30s/it]\u001b[A\u001b[A\u001b[A"
     ]
    },
    {
     "name": "stdout",
     "output_type": "stream",
     "text": [
      "Sharpness: tensor(0.0130)\n"
     ]
    },
    {
     "name": "stderr",
     "output_type": "stream",
     "text": [
      "\n",
      "\n",
      "\n",
      "Train loss: 3.72e-11, test loss: 3.61e-11:  11%|██████████████▏                                                                                                                  | 55/500 [02:35<09:36,  1.30s/it]\u001b[A\u001b[A\u001b[A\n",
      "\n",
      "\n",
      "Train loss: 3.72e-11, test loss: 3.61e-11:  11%|██████████████▍                                                                                                                  | 56/500 [02:35<29:43,  4.02s/it]\u001b[A\u001b[A\u001b[A"
     ]
    },
    {
     "name": "stdout",
     "output_type": "stream",
     "text": [
      "Sharpness: tensor(0.0130)\n"
     ]
    },
    {
     "name": "stderr",
     "output_type": "stream",
     "text": [
      "\n",
      "\n",
      "\n",
      "Train loss: 3.61e-11, test loss: 3.52e-11:  11%|██████████████▍                                                                                                                  | 56/500 [02:35<29:43,  4.02s/it]\u001b[A\u001b[A\u001b[A\n",
      "\n",
      "\n",
      "Train loss: 3.61e-11, test loss: 3.52e-11:  11%|██████████████▋                                                                                                                  | 57/500 [02:35<21:31,  2.92s/it]\u001b[A\u001b[A\u001b[A\n",
      "\n",
      "\n",
      "Train loss: 3.52e-11, test loss: 3.43e-11:  11%|██████████████▋                                                                                                                  | 57/500 [02:36<21:31,  2.92s/it]\u001b[A\u001b[A\u001b[A\n",
      "\n",
      "\n",
      "Train loss: 3.52e-11, test loss: 3.43e-11:  12%|██████████████▉                                                                                                                  | 58/500 [02:36<15:26,  2.10s/it]\u001b[A\u001b[A\u001b[A"
     ]
    },
    {
     "name": "stdout",
     "output_type": "stream",
     "text": [
      "Sharpness: tensor(0.0130)\n",
      "Sharpness: tensor(0.0130)\n"
     ]
    },
    {
     "name": "stderr",
     "output_type": "stream",
     "text": [
      "\n",
      "\n",
      "\n",
      "Train loss: 3.43e-11, test loss: 3.34e-11:  12%|██████████████▉                                                                                                                  | 58/500 [02:36<15:26,  2.10s/it]\u001b[A\u001b[A\u001b[A\n",
      "\n",
      "\n",
      "Train loss: 3.43e-11, test loss: 3.34e-11:  12%|███████████████▏                                                                                                                 | 59/500 [02:36<11:28,  1.56s/it]\u001b[A\u001b[A\u001b[A"
     ]
    },
    {
     "name": "stdout",
     "output_type": "stream",
     "text": [
      "Sharpness: tensor(0.0130)\n"
     ]
    },
    {
     "name": "stderr",
     "output_type": "stream",
     "text": [
      "\n",
      "\n",
      "\n",
      "Train loss: 3.34e-11, test loss: 3.26e-11:  12%|███████████████▏                                                                                                                 | 59/500 [02:36<11:28,  1.56s/it]\u001b[A\u001b[A\u001b[A\n",
      "\n",
      "\n",
      "Train loss: 3.34e-11, test loss: 3.26e-11:  12%|███████████████▍                                                                                                                 | 60/500 [02:36<08:38,  1.18s/it]\u001b[A\u001b[A\u001b[A"
     ]
    },
    {
     "name": "stdout",
     "output_type": "stream",
     "text": [
      "Sharpness: tensor(0.0130)\n"
     ]
    },
    {
     "ename": "KeyboardInterrupt",
     "evalue": "",
     "output_type": "error",
     "traceback": [
      "\u001b[0;31m---------------------------------------------------------------------------\u001b[0m",
      "\u001b[0;31mKeyboardInterrupt\u001b[0m                         Traceback (most recent call last)",
      "\u001b[0;32m/tmp/ipykernel_683768/2972954441.py\u001b[0m in \u001b[0;36m<module>\u001b[0;34m\u001b[0m\n\u001b[1;32m     29\u001b[0m                 \u001b[0mmodel\u001b[0m\u001b[0;34m=\u001b[0m\u001b[0mmodel\u001b[0m\u001b[0;34m,\u001b[0m\u001b[0;34m\u001b[0m\u001b[0;34m\u001b[0m\u001b[0m\n\u001b[1;32m     30\u001b[0m                 \u001b[0mtarget\u001b[0m\u001b[0;34m=\u001b[0m\u001b[0mtarget\u001b[0m\u001b[0;34m,\u001b[0m\u001b[0;34m\u001b[0m\u001b[0;34m\u001b[0m\u001b[0m\n\u001b[0;32m---> 31\u001b[0;31m                 \u001b[0mcallback\u001b[0m\u001b[0;34m=\u001b[0m\u001b[0mcallback\u001b[0m\u001b[0;34m\u001b[0m\u001b[0;34m\u001b[0m\u001b[0m\n\u001b[0m\u001b[1;32m     32\u001b[0m )\n",
      "\u001b[0;32m/tmp/ipykernel_683768/3217714415.py\u001b[0m in \u001b[0;36mtrain_gd\u001b[0;34m(step_size, n_outer_loops, n_inner_loops, tol, model, target, batch_size, callback)\u001b[0m\n\u001b[1;32m     34\u001b[0m \u001b[0;34m\u001b[0m\u001b[0m\n\u001b[1;32m     35\u001b[0m         \u001b[0;32mif\u001b[0m \u001b[0mcallback\u001b[0m\u001b[0;34m:\u001b[0m\u001b[0;34m\u001b[0m\u001b[0;34m\u001b[0m\u001b[0m\n\u001b[0;32m---> 36\u001b[0;31m             \u001b[0mcallback\u001b[0m\u001b[0;34m(\u001b[0m\u001b[0mitr\u001b[0m\u001b[0;34m=\u001b[0m\u001b[0mitr\u001b[0m\u001b[0;34m,\u001b[0m \u001b[0mmodel\u001b[0m\u001b[0;34m=\u001b[0m\u001b[0mmodel\u001b[0m\u001b[0;34m,\u001b[0m \u001b[0mtarget\u001b[0m\u001b[0;34m=\u001b[0m\u001b[0mtarget\u001b[0m\u001b[0;34m)\u001b[0m\u001b[0;34m\u001b[0m\u001b[0;34m\u001b[0m\u001b[0m\n\u001b[0m\u001b[1;32m     37\u001b[0m \u001b[0;34m\u001b[0m\u001b[0m\n\u001b[1;32m     38\u001b[0m         \u001b[0mpbar\u001b[0m\u001b[0;34m.\u001b[0m\u001b[0mset_description\u001b[0m\u001b[0;34m(\u001b[0m\u001b[0;34mf\"Train loss: {train_loss:0.2e}, test loss: {test_loss:0.2e}\"\u001b[0m\u001b[0;34m)\u001b[0m\u001b[0;34m\u001b[0m\u001b[0;34m\u001b[0m\u001b[0m\n",
      "\u001b[0;32m/tmp/ipykernel_683768/2972954441.py\u001b[0m in \u001b[0;36mcallback\u001b[0;34m(itr, model, target)\u001b[0m\n\u001b[1;32m     16\u001b[0m \u001b[0;34m\u001b[0m\u001b[0m\n\u001b[1;32m     17\u001b[0m     \u001b[0;32mif\u001b[0m \u001b[0mitr\u001b[0m \u001b[0;34m%\u001b[0m \u001b[0;36m5\u001b[0m \u001b[0;34m==\u001b[0m \u001b[0;36m0\u001b[0m\u001b[0;34m:\u001b[0m\u001b[0;34m\u001b[0m\u001b[0;34m\u001b[0m\u001b[0m\n\u001b[0;32m---> 18\u001b[0;31m         \u001b[0msharpness1\u001b[0m\u001b[0;34m.\u001b[0m\u001b[0mappend\u001b[0m\u001b[0;34m(\u001b[0m \u001b[0mget_hessian_eigenvalues\u001b[0m\u001b[0;34m(\u001b[0m\u001b[0mmodel\u001b[0m\u001b[0;34m=\u001b[0m\u001b[0mmodel\u001b[0m\u001b[0;34m,\u001b[0m \u001b[0mloss_fn\u001b[0m\u001b[0;34m=\u001b[0m\u001b[0mloss\u001b[0m\u001b[0;34m,\u001b[0m \u001b[0mneigs\u001b[0m\u001b[0;34m=\u001b[0m\u001b[0;36m2\u001b[0m\u001b[0;34m)\u001b[0m\u001b[0;34m[\u001b[0m\u001b[0;36m0\u001b[0m\u001b[0;34m]\u001b[0m \u001b[0;34m)\u001b[0m\u001b[0;34m\u001b[0m\u001b[0;34m\u001b[0m\u001b[0m\n\u001b[0m\u001b[1;32m     19\u001b[0m \u001b[0;34m\u001b[0m\u001b[0m\n\u001b[1;32m     20\u001b[0m     \u001b[0mprint\u001b[0m\u001b[0;34m(\u001b[0m\u001b[0;34m'Sharpness:'\u001b[0m\u001b[0;34m,\u001b[0m \u001b[0msharpness1\u001b[0m\u001b[0;34m[\u001b[0m\u001b[0;34m-\u001b[0m\u001b[0;36m1\u001b[0m\u001b[0;34m]\u001b[0m\u001b[0;34m)\u001b[0m\u001b[0;34m\u001b[0m\u001b[0;34m\u001b[0m\u001b[0m\n",
      "\u001b[0;32m/egr/research-slim/ghoshavr/matrix_Fact/utils.py\u001b[0m in \u001b[0;36mget_hessian_eigenvalues\u001b[0;34m(model, loss_fn, neigs)\u001b[0m\n\u001b[1;32m     41\u001b[0m     \u001b[0mhvp_delta\u001b[0m \u001b[0;34m=\u001b[0m \u001b[0;32mlambda\u001b[0m \u001b[0mdelta\u001b[0m\u001b[0;34m:\u001b[0m \u001b[0mcompute_hvp\u001b[0m\u001b[0;34m(\u001b[0m\u001b[0mmodel\u001b[0m\u001b[0;34m,\u001b[0m \u001b[0mloss_fn\u001b[0m\u001b[0;34m,\u001b[0m \u001b[0mdelta\u001b[0m\u001b[0;34m)\u001b[0m\u001b[0;34m.\u001b[0m\u001b[0mdetach\u001b[0m\u001b[0;34m(\u001b[0m\u001b[0;34m)\u001b[0m\u001b[0;34m.\u001b[0m\u001b[0mcpu\u001b[0m\u001b[0;34m(\u001b[0m\u001b[0;34m)\u001b[0m\u001b[0;34m\u001b[0m\u001b[0;34m\u001b[0m\u001b[0m\n\u001b[1;32m     42\u001b[0m     \u001b[0mnparams\u001b[0m \u001b[0;34m=\u001b[0m \u001b[0mlen\u001b[0m\u001b[0;34m(\u001b[0m\u001b[0mparameters_to_vector\u001b[0m\u001b[0;34m(\u001b[0m\u001b[0;34m(\u001b[0m\u001b[0mmodel\u001b[0m\u001b[0;34m.\u001b[0m\u001b[0mparameters\u001b[0m\u001b[0;34m(\u001b[0m\u001b[0;34m)\u001b[0m\u001b[0;34m)\u001b[0m\u001b[0;34m)\u001b[0m\u001b[0;34m)\u001b[0m\u001b[0;34m\u001b[0m\u001b[0;34m\u001b[0m\u001b[0m\n\u001b[0;32m---> 43\u001b[0;31m     \u001b[0mevals\u001b[0m\u001b[0;34m,\u001b[0m \u001b[0mevecs\u001b[0m \u001b[0;34m=\u001b[0m \u001b[0mlanczos\u001b[0m\u001b[0;34m(\u001b[0m\u001b[0mhvp_delta\u001b[0m\u001b[0;34m,\u001b[0m \u001b[0mnparams\u001b[0m\u001b[0;34m,\u001b[0m \u001b[0mneigs\u001b[0m\u001b[0;34m=\u001b[0m\u001b[0mneigs\u001b[0m\u001b[0;34m)\u001b[0m\u001b[0;34m\u001b[0m\u001b[0;34m\u001b[0m\u001b[0m\n\u001b[0m\u001b[1;32m     44\u001b[0m     \u001b[0;32mreturn\u001b[0m \u001b[0mevals\u001b[0m\u001b[0;34m\u001b[0m\u001b[0;34m\u001b[0m\u001b[0m\n\u001b[1;32m     45\u001b[0m \u001b[0;34m\u001b[0m\u001b[0m\n",
      "\u001b[0;32m/egr/research-slim/ghoshavr/matrix_Fact/utils.py\u001b[0m in \u001b[0;36mlanczos\u001b[0;34m(matrix_vector, dim, neigs)\u001b[0m\n\u001b[1;32m     10\u001b[0m         \u001b[0;32mreturn\u001b[0m \u001b[0mmatrix_vector\u001b[0m\u001b[0;34m(\u001b[0m\u001b[0mgpu_vec\u001b[0m\u001b[0;34m)\u001b[0m\u001b[0;34m\u001b[0m\u001b[0;34m\u001b[0m\u001b[0m\n\u001b[1;32m     11\u001b[0m     \u001b[0moperator\u001b[0m \u001b[0;34m=\u001b[0m \u001b[0mLinearOperator\u001b[0m\u001b[0;34m(\u001b[0m\u001b[0;34m(\u001b[0m\u001b[0mdim\u001b[0m\u001b[0;34m,\u001b[0m \u001b[0mdim\u001b[0m\u001b[0;34m)\u001b[0m\u001b[0;34m,\u001b[0m \u001b[0mmatvec\u001b[0m\u001b[0;34m=\u001b[0m\u001b[0mmv\u001b[0m\u001b[0;34m)\u001b[0m\u001b[0;34m\u001b[0m\u001b[0;34m\u001b[0m\u001b[0m\n\u001b[0;32m---> 12\u001b[0;31m     \u001b[0mevals\u001b[0m\u001b[0;34m,\u001b[0m \u001b[0mevecs\u001b[0m \u001b[0;34m=\u001b[0m \u001b[0meigsh\u001b[0m\u001b[0;34m(\u001b[0m\u001b[0moperator\u001b[0m\u001b[0;34m,\u001b[0m \u001b[0mneigs\u001b[0m\u001b[0;34m)\u001b[0m\u001b[0;34m\u001b[0m\u001b[0;34m\u001b[0m\u001b[0m\n\u001b[0m\u001b[1;32m     13\u001b[0m     \u001b[0;32mreturn\u001b[0m \u001b[0mtorch\u001b[0m\u001b[0;34m.\u001b[0m\u001b[0mfrom_numpy\u001b[0m\u001b[0;34m(\u001b[0m\u001b[0mnp\u001b[0m\u001b[0;34m.\u001b[0m\u001b[0mascontiguousarray\u001b[0m\u001b[0;34m(\u001b[0m\u001b[0mevals\u001b[0m\u001b[0;34m[\u001b[0m\u001b[0;34m:\u001b[0m\u001b[0;34m:\u001b[0m\u001b[0;34m-\u001b[0m\u001b[0;36m1\u001b[0m\u001b[0;34m]\u001b[0m\u001b[0;34m)\u001b[0m\u001b[0;34m.\u001b[0m\u001b[0mcopy\u001b[0m\u001b[0;34m(\u001b[0m\u001b[0;34m)\u001b[0m\u001b[0;34m)\u001b[0m\u001b[0;34m.\u001b[0m\u001b[0mfloat\u001b[0m\u001b[0;34m(\u001b[0m\u001b[0;34m)\u001b[0m\u001b[0;34m,\u001b[0m\u001b[0;31m \u001b[0m\u001b[0;31m\\\u001b[0m\u001b[0;34m\u001b[0m\u001b[0;34m\u001b[0m\u001b[0m\n\u001b[1;32m     14\u001b[0m            \u001b[0mtorch\u001b[0m\u001b[0;34m.\u001b[0m\u001b[0mfrom_numpy\u001b[0m\u001b[0;34m(\u001b[0m\u001b[0mnp\u001b[0m\u001b[0;34m.\u001b[0m\u001b[0mascontiguousarray\u001b[0m\u001b[0;34m(\u001b[0m\u001b[0mnp\u001b[0m\u001b[0;34m.\u001b[0m\u001b[0mflip\u001b[0m\u001b[0;34m(\u001b[0m\u001b[0mevecs\u001b[0m\u001b[0;34m,\u001b[0m \u001b[0;34m-\u001b[0m\u001b[0;36m1\u001b[0m\u001b[0;34m)\u001b[0m\u001b[0;34m)\u001b[0m\u001b[0;34m.\u001b[0m\u001b[0mcopy\u001b[0m\u001b[0;34m(\u001b[0m\u001b[0;34m)\u001b[0m\u001b[0;34m)\u001b[0m\u001b[0;34m.\u001b[0m\u001b[0mfloat\u001b[0m\u001b[0;34m(\u001b[0m\u001b[0;34m)\u001b[0m\u001b[0;34m\u001b[0m\u001b[0;34m\u001b[0m\u001b[0m\n",
      "\u001b[0;32m/egr/research-slim/ghoshavr/miniconda3/envs/lot/lib/python3.7/site-packages/scipy/sparse/linalg/eigen/arpack/arpack.py\u001b[0m in \u001b[0;36meigsh\u001b[0;34m(A, k, M, sigma, which, v0, ncv, maxiter, tol, return_eigenvectors, Minv, OPinv, mode)\u001b[0m\n\u001b[1;32m   1688\u001b[0m     \u001b[0;32mwith\u001b[0m \u001b[0m_ARPACK_LOCK\u001b[0m\u001b[0;34m:\u001b[0m\u001b[0;34m\u001b[0m\u001b[0;34m\u001b[0m\u001b[0m\n\u001b[1;32m   1689\u001b[0m         \u001b[0;32mwhile\u001b[0m \u001b[0;32mnot\u001b[0m \u001b[0mparams\u001b[0m\u001b[0;34m.\u001b[0m\u001b[0mconverged\u001b[0m\u001b[0;34m:\u001b[0m\u001b[0;34m\u001b[0m\u001b[0;34m\u001b[0m\u001b[0m\n\u001b[0;32m-> 1690\u001b[0;31m             \u001b[0mparams\u001b[0m\u001b[0;34m.\u001b[0m\u001b[0miterate\u001b[0m\u001b[0;34m(\u001b[0m\u001b[0;34m)\u001b[0m\u001b[0;34m\u001b[0m\u001b[0;34m\u001b[0m\u001b[0m\n\u001b[0m\u001b[1;32m   1691\u001b[0m \u001b[0;34m\u001b[0m\u001b[0m\n\u001b[1;32m   1692\u001b[0m         \u001b[0;32mreturn\u001b[0m \u001b[0mparams\u001b[0m\u001b[0;34m.\u001b[0m\u001b[0mextract\u001b[0m\u001b[0;34m(\u001b[0m\u001b[0mreturn_eigenvectors\u001b[0m\u001b[0;34m)\u001b[0m\u001b[0;34m\u001b[0m\u001b[0;34m\u001b[0m\u001b[0m\n",
      "\u001b[0;32m/egr/research-slim/ghoshavr/miniconda3/envs/lot/lib/python3.7/site-packages/scipy/sparse/linalg/eigen/arpack/arpack.py\u001b[0m in \u001b[0;36miterate\u001b[0;34m(self)\u001b[0m\n\u001b[1;32m    546\u001b[0m             \u001b[0;31m# compute y = Op*x\u001b[0m\u001b[0;34m\u001b[0m\u001b[0;34m\u001b[0m\u001b[0;34m\u001b[0m\u001b[0m\n\u001b[1;32m    547\u001b[0m             \u001b[0;32mif\u001b[0m \u001b[0mself\u001b[0m\u001b[0;34m.\u001b[0m\u001b[0mmode\u001b[0m \u001b[0;34m==\u001b[0m \u001b[0;36m1\u001b[0m\u001b[0;34m:\u001b[0m\u001b[0;34m\u001b[0m\u001b[0;34m\u001b[0m\u001b[0m\n\u001b[0;32m--> 548\u001b[0;31m                 \u001b[0mself\u001b[0m\u001b[0;34m.\u001b[0m\u001b[0mworkd\u001b[0m\u001b[0;34m[\u001b[0m\u001b[0myslice\u001b[0m\u001b[0;34m]\u001b[0m \u001b[0;34m=\u001b[0m \u001b[0mself\u001b[0m\u001b[0;34m.\u001b[0m\u001b[0mOP\u001b[0m\u001b[0;34m(\u001b[0m\u001b[0mself\u001b[0m\u001b[0;34m.\u001b[0m\u001b[0mworkd\u001b[0m\u001b[0;34m[\u001b[0m\u001b[0mxslice\u001b[0m\u001b[0;34m]\u001b[0m\u001b[0;34m)\u001b[0m\u001b[0;34m\u001b[0m\u001b[0;34m\u001b[0m\u001b[0m\n\u001b[0m\u001b[1;32m    549\u001b[0m             \u001b[0;32melif\u001b[0m \u001b[0mself\u001b[0m\u001b[0;34m.\u001b[0m\u001b[0mmode\u001b[0m \u001b[0;34m==\u001b[0m \u001b[0;36m2\u001b[0m\u001b[0;34m:\u001b[0m\u001b[0;34m\u001b[0m\u001b[0;34m\u001b[0m\u001b[0m\n\u001b[1;32m    550\u001b[0m                 \u001b[0mself\u001b[0m\u001b[0;34m.\u001b[0m\u001b[0mworkd\u001b[0m\u001b[0;34m[\u001b[0m\u001b[0mxslice\u001b[0m\u001b[0;34m]\u001b[0m \u001b[0;34m=\u001b[0m \u001b[0mself\u001b[0m\u001b[0;34m.\u001b[0m\u001b[0mOPb\u001b[0m\u001b[0;34m(\u001b[0m\u001b[0mself\u001b[0m\u001b[0;34m.\u001b[0m\u001b[0mworkd\u001b[0m\u001b[0;34m[\u001b[0m\u001b[0mxslice\u001b[0m\u001b[0;34m]\u001b[0m\u001b[0;34m)\u001b[0m\u001b[0;34m\u001b[0m\u001b[0;34m\u001b[0m\u001b[0m\n",
      "\u001b[0;32m/egr/research-slim/ghoshavr/miniconda3/envs/lot/lib/python3.7/site-packages/scipy/sparse/linalg/interface.py\u001b[0m in \u001b[0;36mmatvec\u001b[0;34m(self, x)\u001b[0m\n\u001b[1;32m    230\u001b[0m             \u001b[0;32mraise\u001b[0m \u001b[0mValueError\u001b[0m\u001b[0;34m(\u001b[0m\u001b[0;34m'dimension mismatch'\u001b[0m\u001b[0;34m)\u001b[0m\u001b[0;34m\u001b[0m\u001b[0;34m\u001b[0m\u001b[0m\n\u001b[1;32m    231\u001b[0m \u001b[0;34m\u001b[0m\u001b[0m\n\u001b[0;32m--> 232\u001b[0;31m         \u001b[0my\u001b[0m \u001b[0;34m=\u001b[0m \u001b[0mself\u001b[0m\u001b[0;34m.\u001b[0m\u001b[0m_matvec\u001b[0m\u001b[0;34m(\u001b[0m\u001b[0mx\u001b[0m\u001b[0;34m)\u001b[0m\u001b[0;34m\u001b[0m\u001b[0;34m\u001b[0m\u001b[0m\n\u001b[0m\u001b[1;32m    233\u001b[0m \u001b[0;34m\u001b[0m\u001b[0m\n\u001b[1;32m    234\u001b[0m         \u001b[0;32mif\u001b[0m \u001b[0misinstance\u001b[0m\u001b[0;34m(\u001b[0m\u001b[0mx\u001b[0m\u001b[0;34m,\u001b[0m \u001b[0mnp\u001b[0m\u001b[0;34m.\u001b[0m\u001b[0mmatrix\u001b[0m\u001b[0;34m)\u001b[0m\u001b[0;34m:\u001b[0m\u001b[0;34m\u001b[0m\u001b[0;34m\u001b[0m\u001b[0m\n",
      "\u001b[0;32m/egr/research-slim/ghoshavr/miniconda3/envs/lot/lib/python3.7/site-packages/scipy/sparse/linalg/interface.py\u001b[0m in \u001b[0;36m_matvec\u001b[0;34m(self, x)\u001b[0m\n\u001b[1;32m    528\u001b[0m \u001b[0;34m\u001b[0m\u001b[0m\n\u001b[1;32m    529\u001b[0m     \u001b[0;32mdef\u001b[0m \u001b[0m_matvec\u001b[0m\u001b[0;34m(\u001b[0m\u001b[0mself\u001b[0m\u001b[0;34m,\u001b[0m \u001b[0mx\u001b[0m\u001b[0;34m)\u001b[0m\u001b[0;34m:\u001b[0m\u001b[0;34m\u001b[0m\u001b[0;34m\u001b[0m\u001b[0m\n\u001b[0;32m--> 530\u001b[0;31m         \u001b[0;32mreturn\u001b[0m \u001b[0mself\u001b[0m\u001b[0;34m.\u001b[0m\u001b[0m__matvec_impl\u001b[0m\u001b[0;34m(\u001b[0m\u001b[0mx\u001b[0m\u001b[0;34m)\u001b[0m\u001b[0;34m\u001b[0m\u001b[0;34m\u001b[0m\u001b[0m\n\u001b[0m\u001b[1;32m    531\u001b[0m \u001b[0;34m\u001b[0m\u001b[0m\n\u001b[1;32m    532\u001b[0m     \u001b[0;32mdef\u001b[0m \u001b[0m_rmatvec\u001b[0m\u001b[0;34m(\u001b[0m\u001b[0mself\u001b[0m\u001b[0;34m,\u001b[0m \u001b[0mx\u001b[0m\u001b[0;34m)\u001b[0m\u001b[0;34m:\u001b[0m\u001b[0;34m\u001b[0m\u001b[0;34m\u001b[0m\u001b[0m\n",
      "\u001b[0;32m/egr/research-slim/ghoshavr/matrix_Fact/utils.py\u001b[0m in \u001b[0;36mmv\u001b[0;34m(vec)\u001b[0m\n\u001b[1;32m      8\u001b[0m     \u001b[0;32mdef\u001b[0m \u001b[0mmv\u001b[0m\u001b[0;34m(\u001b[0m\u001b[0mvec\u001b[0m\u001b[0;34m:\u001b[0m \u001b[0mnp\u001b[0m\u001b[0;34m.\u001b[0m\u001b[0mndarray\u001b[0m\u001b[0;34m)\u001b[0m\u001b[0;34m:\u001b[0m\u001b[0;34m\u001b[0m\u001b[0;34m\u001b[0m\u001b[0m\n\u001b[1;32m      9\u001b[0m         \u001b[0mgpu_vec\u001b[0m \u001b[0;34m=\u001b[0m \u001b[0mtorch\u001b[0m\u001b[0;34m.\u001b[0m\u001b[0mtensor\u001b[0m\u001b[0;34m(\u001b[0m\u001b[0mvec\u001b[0m\u001b[0;34m,\u001b[0m \u001b[0mdtype\u001b[0m\u001b[0;34m=\u001b[0m\u001b[0mtorch\u001b[0m\u001b[0;34m.\u001b[0m\u001b[0mfloat\u001b[0m\u001b[0;34m)\u001b[0m\u001b[0;31m#.cuda()\u001b[0m\u001b[0;34m\u001b[0m\u001b[0;34m\u001b[0m\u001b[0m\n\u001b[0;32m---> 10\u001b[0;31m         \u001b[0;32mreturn\u001b[0m \u001b[0mmatrix_vector\u001b[0m\u001b[0;34m(\u001b[0m\u001b[0mgpu_vec\u001b[0m\u001b[0;34m)\u001b[0m\u001b[0;34m\u001b[0m\u001b[0;34m\u001b[0m\u001b[0m\n\u001b[0m\u001b[1;32m     11\u001b[0m     \u001b[0moperator\u001b[0m \u001b[0;34m=\u001b[0m \u001b[0mLinearOperator\u001b[0m\u001b[0;34m(\u001b[0m\u001b[0;34m(\u001b[0m\u001b[0mdim\u001b[0m\u001b[0;34m,\u001b[0m \u001b[0mdim\u001b[0m\u001b[0;34m)\u001b[0m\u001b[0;34m,\u001b[0m \u001b[0mmatvec\u001b[0m\u001b[0;34m=\u001b[0m\u001b[0mmv\u001b[0m\u001b[0;34m)\u001b[0m\u001b[0;34m\u001b[0m\u001b[0;34m\u001b[0m\u001b[0m\n\u001b[1;32m     12\u001b[0m     \u001b[0mevals\u001b[0m\u001b[0;34m,\u001b[0m \u001b[0mevecs\u001b[0m \u001b[0;34m=\u001b[0m \u001b[0meigsh\u001b[0m\u001b[0;34m(\u001b[0m\u001b[0moperator\u001b[0m\u001b[0;34m,\u001b[0m \u001b[0mneigs\u001b[0m\u001b[0;34m)\u001b[0m\u001b[0;34m\u001b[0m\u001b[0;34m\u001b[0m\u001b[0m\n",
      "\u001b[0;32m/egr/research-slim/ghoshavr/matrix_Fact/utils.py\u001b[0m in \u001b[0;36m<lambda>\u001b[0;34m(delta)\u001b[0m\n\u001b[1;32m     39\u001b[0m \u001b[0;32mdef\u001b[0m \u001b[0mget_hessian_eigenvalues\u001b[0m\u001b[0;34m(\u001b[0m\u001b[0mmodel\u001b[0m\u001b[0;34m,\u001b[0m \u001b[0mloss_fn\u001b[0m\u001b[0;34m,\u001b[0m \u001b[0mneigs\u001b[0m\u001b[0;34m=\u001b[0m\u001b[0;36m5\u001b[0m\u001b[0;34m)\u001b[0m\u001b[0;34m:\u001b[0m\u001b[0;34m\u001b[0m\u001b[0;34m\u001b[0m\u001b[0m\n\u001b[1;32m     40\u001b[0m     \u001b[0;34m\"\"\" Compute the leading Hessian eigenvalues. \"\"\"\u001b[0m\u001b[0;34m\u001b[0m\u001b[0;34m\u001b[0m\u001b[0m\n\u001b[0;32m---> 41\u001b[0;31m     \u001b[0mhvp_delta\u001b[0m \u001b[0;34m=\u001b[0m \u001b[0;32mlambda\u001b[0m \u001b[0mdelta\u001b[0m\u001b[0;34m:\u001b[0m \u001b[0mcompute_hvp\u001b[0m\u001b[0;34m(\u001b[0m\u001b[0mmodel\u001b[0m\u001b[0;34m,\u001b[0m \u001b[0mloss_fn\u001b[0m\u001b[0;34m,\u001b[0m \u001b[0mdelta\u001b[0m\u001b[0;34m)\u001b[0m\u001b[0;34m.\u001b[0m\u001b[0mdetach\u001b[0m\u001b[0;34m(\u001b[0m\u001b[0;34m)\u001b[0m\u001b[0;34m.\u001b[0m\u001b[0mcpu\u001b[0m\u001b[0;34m(\u001b[0m\u001b[0;34m)\u001b[0m\u001b[0;34m\u001b[0m\u001b[0;34m\u001b[0m\u001b[0m\n\u001b[0m\u001b[1;32m     42\u001b[0m     \u001b[0mnparams\u001b[0m \u001b[0;34m=\u001b[0m \u001b[0mlen\u001b[0m\u001b[0;34m(\u001b[0m\u001b[0mparameters_to_vector\u001b[0m\u001b[0;34m(\u001b[0m\u001b[0;34m(\u001b[0m\u001b[0mmodel\u001b[0m\u001b[0;34m.\u001b[0m\u001b[0mparameters\u001b[0m\u001b[0;34m(\u001b[0m\u001b[0;34m)\u001b[0m\u001b[0;34m)\u001b[0m\u001b[0;34m)\u001b[0m\u001b[0;34m)\u001b[0m\u001b[0;34m\u001b[0m\u001b[0;34m\u001b[0m\u001b[0m\n\u001b[1;32m     43\u001b[0m     \u001b[0mevals\u001b[0m\u001b[0;34m,\u001b[0m \u001b[0mevecs\u001b[0m \u001b[0;34m=\u001b[0m \u001b[0mlanczos\u001b[0m\u001b[0;34m(\u001b[0m\u001b[0mhvp_delta\u001b[0m\u001b[0;34m,\u001b[0m \u001b[0mnparams\u001b[0m\u001b[0;34m,\u001b[0m \u001b[0mneigs\u001b[0m\u001b[0;34m=\u001b[0m\u001b[0mneigs\u001b[0m\u001b[0;34m)\u001b[0m\u001b[0;34m\u001b[0m\u001b[0;34m\u001b[0m\u001b[0m\n",
      "\u001b[0;32m/egr/research-slim/ghoshavr/matrix_Fact/utils.py\u001b[0m in \u001b[0;36mcompute_hvp\u001b[0;34m(model, loss, vector)\u001b[0m\n\u001b[1;32m     32\u001b[0m \u001b[0;34m\u001b[0m\u001b[0m\n\u001b[1;32m     33\u001b[0m     \u001b[0;31m# Compute Hessian-vector product\u001b[0m\u001b[0;34m\u001b[0m\u001b[0;34m\u001b[0m\u001b[0;34m\u001b[0m\u001b[0m\n\u001b[0;32m---> 34\u001b[0;31m     \u001b[0mhvp\u001b[0m \u001b[0;34m=\u001b[0m \u001b[0mtorch\u001b[0m\u001b[0;34m.\u001b[0m\u001b[0mautograd\u001b[0m\u001b[0;34m.\u001b[0m\u001b[0mgrad\u001b[0m\u001b[0;34m(\u001b[0m\u001b[0mdot_product\u001b[0m\u001b[0;34m,\u001b[0m \u001b[0mmodel\u001b[0m\u001b[0;34m.\u001b[0m\u001b[0mparameters\u001b[0m\u001b[0;34m(\u001b[0m\u001b[0;34m)\u001b[0m\u001b[0;34m,\u001b[0m \u001b[0mretain_graph\u001b[0m\u001b[0;34m=\u001b[0m\u001b[0;32mTrue\u001b[0m\u001b[0;34m)\u001b[0m\u001b[0;34m\u001b[0m\u001b[0;34m\u001b[0m\u001b[0m\n\u001b[0m\u001b[1;32m     35\u001b[0m \u001b[0;34m\u001b[0m\u001b[0m\n\u001b[1;32m     36\u001b[0m     \u001b[0;32mreturn\u001b[0m \u001b[0mparameters_to_vector\u001b[0m\u001b[0;34m(\u001b[0m\u001b[0mhvp\u001b[0m\u001b[0;34m)\u001b[0m\u001b[0;34m\u001b[0m\u001b[0;34m\u001b[0m\u001b[0m\n",
      "\u001b[0;32m/egr/research-slim/ghoshavr/miniconda3/envs/lot/lib/python3.7/site-packages/torch/autograd/__init__.py\u001b[0m in \u001b[0;36mgrad\u001b[0;34m(outputs, inputs, grad_outputs, retain_graph, create_graph, only_inputs, allow_unused, is_grads_batched)\u001b[0m\n\u001b[1;32m    300\u001b[0m         return Variable._execution_engine.run_backward(  # Calls into the C++ engine to run the backward pass\n\u001b[1;32m    301\u001b[0m             \u001b[0mt_outputs\u001b[0m\u001b[0;34m,\u001b[0m \u001b[0mgrad_outputs_\u001b[0m\u001b[0;34m,\u001b[0m \u001b[0mretain_graph\u001b[0m\u001b[0;34m,\u001b[0m \u001b[0mcreate_graph\u001b[0m\u001b[0;34m,\u001b[0m \u001b[0mt_inputs\u001b[0m\u001b[0;34m,\u001b[0m\u001b[0;34m\u001b[0m\u001b[0;34m\u001b[0m\u001b[0m\n\u001b[0;32m--> 302\u001b[0;31m             allow_unused, accumulate_grad=False)  # Calls into the C++ engine to run the backward pass\n\u001b[0m\u001b[1;32m    303\u001b[0m \u001b[0;34m\u001b[0m\u001b[0m\n\u001b[1;32m    304\u001b[0m \u001b[0;34m\u001b[0m\u001b[0m\n",
      "\u001b[0;31mKeyboardInterrupt\u001b[0m: "
     ]
    }
   ],
   "source": [
    "# Parameters\n",
    "depth = 3\n",
    "tol = 0\n",
    "n_outer_loops = 500\n",
    "n_inner_loops = 1\n",
    "step_size = 0.01\n",
    "init_scale = 1.0\n",
    "\n",
    "sharpness1 = []\n",
    "\n",
    "model = DiagonalDeepMatrixFactorization(d=d, depth=depth, init_scale=init_scale)\n",
    "criterion = torch.nn.MSELoss(reduction='sum')\n",
    "\n",
    "def callback(itr, model, target):\n",
    "    loss = criterion(model(), target)\n",
    "    \n",
    "    if itr % 5 == 0:\n",
    "        sharpness1.append( get_hessian_eigenvalues(model=model, loss_fn=loss, neigs=2)[0] )\n",
    "\n",
    "    print('Sharpness:', sharpness1[-1])\n",
    "\n",
    "\n",
    "# Train model\n",
    "gd_result = train_gd(\n",
    "                step_size=step_size,\n",
    "                n_outer_loops=n_outer_loops,\n",
    "                n_inner_loops=n_inner_loops,\n",
    "                tol=tol,\n",
    "                model=model,\n",
    "                target=target,\n",
    "                callback=callback           \n",
    ")\n"
   ]
  },
  {
   "cell_type": "code",
   "execution_count": 44,
   "metadata": {},
   "outputs": [
    {
     "data": {
      "image/png": "[encoded data removed]",
      "text/plain": [
       "<Figure size 500x300 with 1 Axes>"
      ]
     },
     "metadata": {},
     "output_type": "display_data"
    }
   ],
   "source": [
    "fig = plt.figure(figsize=(5, 3))\n",
    "\n",
    "ax = fig.add_subplot(111)\n",
    "ax.plot(sharpness, linewidth=2,) # label=r'$\\|\\mathbf{W}_{3:1}(t) - \\mathbf{M}^*\\|^2_{\\mathsf{F}}$')\n",
    "#ax.semilogy(gd_result_smallest['test_loss'], color='red', linewidth=3, label=rf'GD $(\\alpha = 0.001)$')\n",
    "#ax.semilogy(label_noise_result['test_loss'], color='orange', linewidth=5, label=rf'Label Noise SGD $(\\alpha = 0.1)$')\n",
    "ax.set_xlabel(rf'Iterations', fontsize=12)\n",
    "ax.set_ylabel('Sharpness', fontsize=12)\n",
    "ax.hlines(y=0.0167, xmin=0, xmax=1000, color='gray', linestyles='dashed', linewidth=2, label=r'$2/\\eta$')\n",
    "\n",
    "ax.legend(fontsize=12, loc='lower right')\n",
    "ax.set_xlim(0, 100)\n",
    "ax.tick_params(axis='both', which='major', labelsize=10)\n",
    "plt.savefig('eos_nuance.pdf', bbox_inches='tight', pad_inches=0)\n",
    "\n"
   ]
  },
  {
   "cell_type": "code",
   "execution_count": null,
   "metadata": {},
   "outputs": [],
   "source": []
  },
  {
   "cell_type": "code",
   "execution_count": null,
   "metadata": {},
   "outputs": [
    {
     "data": {
      "text/plain": [
       "tensor(0.0129)"
      ]
     },
     "execution_count": 12,
     "metadata": {},
     "output_type": "execute_result"
    }
   ],
   "source": [
    "sharpness[-1]"
   ]
  }
 ],
 "metadata": {
  "kernelspec": {
   "display_name": "Python 3 (ipykernel)",
   "language": "python",
   "name": "python3"
  },
  "language_info": {
   "codemirror_mode": {
    "name": "ipython",
    "version": 3
   },
   "file_extension": ".py",
   "mimetype": "text/x-python",
   "name": "python",
   "nbconvert_exporter": "python",
   "pygments_lexer": "ipython3",
   "version": "3.7.16"
  }
 },
 "nbformat": 4,
 "nbformat_minor": 2
}
